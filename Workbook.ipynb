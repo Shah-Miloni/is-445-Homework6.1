import altair as alt
import pandas as pd

# Load the dataset
df = pd.read_csv("licenses.csv")
df.columns


df['Original Issue Date'] = pd.to_datetime(df['Original Issue Date'], errors='coerce')

df['Year'] = df['Original Issue Date'].dt.year

license_type_counts = df.groupby(['License Type', 'Year']).size().reset_index(name='Count')

# line chart
line_chart = alt.Chart(license_type_counts).mark_line(point=True).encode(
    x=alt.X('Year:O', title="Year"),
    y=alt.Y('Count:Q', title="Number of Licenses"),
    color='License Type:N',
    tooltip=['Year', 'Count', 'License Type']
).properties(title="Yearly License Counts by Type", width=800, height=400).add_params(license_type_param)

line_chart = line_chart.transform_filter(alt.datum['License Type'] == license_type_param)

# Display the line chart
line_chart.show()

license_status_options = df['License Status'].dropna().unique().tolist()

status_dropdown = alt.binding_select(options=license_status_options, name='Select License Status: ')
status_param = alt.param(name='status', bind=status_dropdown, value=license_status_options[0])


city_counts = df.groupby(['License Status', 'City']).size().reset_index(name='Count')

top_cities = city_counts.groupby('City')['Count'].sum().nlargest(10).index
city_counts_top_10 = city_counts[city_counts['City'].isin(top_cities)]
#bar chart
bar_chart = alt.Chart(city_counts_top_10).mark_bar().encode(
    x=alt.X('City:N', sort='-y', title="City"),
    y=alt.Y('Count:Q', title="Number of Licenses"),
    color='City:N',
    tooltip=['City', 'Count:Q', 'License Status']
).properties(width=800, height=400).add_params(status_param)

bar_chart = bar_chart.transform_filter(alt.datum['License Status'] == status_param)

# Display the bar chart
bar_chart.show()

# Save the charts
line_chart.save('/Users/milonishah/Downloads/chart1.json')
bar_chart.save('/Users/milonishah/Downloads/chart2.json')
